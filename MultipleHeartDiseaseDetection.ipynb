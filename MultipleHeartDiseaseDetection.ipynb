{
  "nbformat": 4,
  "nbformat_minor": 0,
  "metadata": {
    "colab": {
      "name": "MultipleHeartDiseaseDetection.ipynb",
      "provenance": [],
      "collapsed_sections": [],
      "include_colab_link": true
    },
    "kernelspec": {
      "name": "python3",
      "display_name": "Python 3"
    },
    "language_info": {
      "name": "python"
    }
  },
  "cells": [
    {
      "cell_type": "markdown",
      "metadata": {
        "id": "view-in-github",
        "colab_type": "text"
      },
      "source": [
        "<a href=\"https://colab.research.google.com/github/FaridaElsheikh/GraduationProject/blob/main/MultipleHeartDiseaseDetection.ipynb\" target=\"_parent\"><img src=\"https://colab.research.google.com/assets/colab-badge.svg\" alt=\"Open In Colab\"/></a>"
      ]
    },
    {
      "cell_type": "markdown",
      "source": [
        "Importing Libraries"
      ],
      "metadata": {
        "id": "WXzB3vyOza7L"
      }
    },
    {
      "cell_type": "code",
      "execution_count": null,
      "metadata": {
        "id": "_CYIXXKldIks"
      },
      "outputs": [],
      "source": [
        "import pandas as pd\n",
        "import seaborn as sns\n",
        "from sklearn.model_selection import train_test_split\n",
        "from sklearn.preprocessing import StandardScaler as ss\n",
        "import matplotlib.pyplot as plt\n",
        "\n",
        "import numpy as np\n",
        "from sklearn.ensemble import RandomForestClassifier\n",
        "from sklearn.metrics import accuracy_score"
      ]
    },
    {
      "cell_type": "code",
      "source": [
        "#LOAD DATA\n",
        "df = pd.read_csv(\"cleveland.csv\", header = None)\n",
        "df.columns = ['age', 'sex', 'cp', 'trestbps', 'chol',\n",
        "              'fbs', 'restecg', 'thalach', 'exang', \n",
        "              'oldpeak', 'slope', 'ca', 'thal', 'target']\n",
        "print(df.head())"
      ],
      "metadata": {
        "colab": {
          "base_uri": "https://localhost:8080/"
        },
        "id": "8uQKmRHiaPH2",
        "outputId": "d3d3be6f-a3a2-42ec-84e7-4bfabab12c42"
      },
      "execution_count": null,
      "outputs": [
        {
          "output_type": "stream",
          "name": "stdout",
          "text": [
            "   age  sex  cp  trestbps  chol  fbs  ...  exang  oldpeak  slope   ca  thal  target\n",
            "0   63    1   1       145   233    1  ...      0      2.3      3  0.0   6.0       0\n",
            "1   67    1   4       160   286    0  ...      1      1.5      2  3.0   3.0       2\n",
            "2   67    1   4       120   229    0  ...      1      2.6      2  2.0   7.0       1\n",
            "3   37    1   3       130   250    0  ...      0      3.5      3  0.0   3.0       0\n",
            "4   41    0   2       130   204    0  ...      0      1.4      1  0.0   3.0       0\n",
            "\n",
            "[5 rows x 14 columns]\n"
          ]
        }
      ]
    },
    {
      "cell_type": "code",
      "source": [
        "df['sex'] = df.sex.map({0: 'female', 1: 'male'})\n",
        "df['thal'] = df.thal.fillna(df.thal.mean())\n",
        "df['ca'] = df.ca.fillna(df.ca.mean())"
      ],
      "metadata": {
        "id": "-RIfjJ32znQ_"
      },
      "execution_count": null,
      "outputs": []
    },
    {
      "cell_type": "code",
      "source": [
        "len(df)"
      ],
      "metadata": {
        "colab": {
          "base_uri": "https://localhost:8080/"
        },
        "id": "FAGLY3gXeBAM",
        "outputId": "8ff44064-c99e-41c4-8f2a-f68caac88ec3"
      },
      "execution_count": null,
      "outputs": [
        {
          "output_type": "execute_result",
          "data": {
            "text/plain": [
              "303"
            ]
          },
          "metadata": {},
          "execution_count": 51
        }
      ]
    },
    {
      "cell_type": "code",
      "source": [
        "# get statistics values\n",
        "df.describe()"
      ],
      "metadata": {
        "colab": {
          "base_uri": "https://localhost:8080/",
          "height": 300
        },
        "id": "0wbIzbpTeE4O",
        "outputId": "5f5f8ad6-7518-494c-ce1e-91c22f7195cb"
      },
      "execution_count": null,
      "outputs": [
        {
          "output_type": "execute_result",
          "data": {
            "text/html": [
              "\n",
              "  <div id=\"df-04b49cde-1b8d-4482-8a6a-eb28ba7c194f\">\n",
              "    <div class=\"colab-df-container\">\n",
              "      <div>\n",
              "<style scoped>\n",
              "    .dataframe tbody tr th:only-of-type {\n",
              "        vertical-align: middle;\n",
              "    }\n",
              "\n",
              "    .dataframe tbody tr th {\n",
              "        vertical-align: top;\n",
              "    }\n",
              "\n",
              "    .dataframe thead th {\n",
              "        text-align: right;\n",
              "    }\n",
              "</style>\n",
              "<table border=\"1\" class=\"dataframe\">\n",
              "  <thead>\n",
              "    <tr style=\"text-align: right;\">\n",
              "      <th></th>\n",
              "      <th>age</th>\n",
              "      <th>cp</th>\n",
              "      <th>trestbps</th>\n",
              "      <th>chol</th>\n",
              "      <th>fbs</th>\n",
              "      <th>restecg</th>\n",
              "      <th>thalach</th>\n",
              "      <th>exang</th>\n",
              "      <th>oldpeak</th>\n",
              "      <th>slope</th>\n",
              "      <th>ca</th>\n",
              "      <th>thal</th>\n",
              "      <th>target</th>\n",
              "    </tr>\n",
              "  </thead>\n",
              "  <tbody>\n",
              "    <tr>\n",
              "      <th>count</th>\n",
              "      <td>303.000000</td>\n",
              "      <td>303.000000</td>\n",
              "      <td>303.000000</td>\n",
              "      <td>303.000000</td>\n",
              "      <td>303.000000</td>\n",
              "      <td>303.000000</td>\n",
              "      <td>303.000000</td>\n",
              "      <td>303.000000</td>\n",
              "      <td>303.000000</td>\n",
              "      <td>303.000000</td>\n",
              "      <td>303.000000</td>\n",
              "      <td>303.000000</td>\n",
              "      <td>303.000000</td>\n",
              "    </tr>\n",
              "    <tr>\n",
              "      <th>mean</th>\n",
              "      <td>54.438944</td>\n",
              "      <td>3.158416</td>\n",
              "      <td>131.689769</td>\n",
              "      <td>246.693069</td>\n",
              "      <td>0.148515</td>\n",
              "      <td>0.990099</td>\n",
              "      <td>149.607261</td>\n",
              "      <td>0.326733</td>\n",
              "      <td>1.039604</td>\n",
              "      <td>1.600660</td>\n",
              "      <td>0.672241</td>\n",
              "      <td>4.734219</td>\n",
              "      <td>0.937294</td>\n",
              "    </tr>\n",
              "    <tr>\n",
              "      <th>std</th>\n",
              "      <td>9.038662</td>\n",
              "      <td>0.960126</td>\n",
              "      <td>17.599748</td>\n",
              "      <td>51.776918</td>\n",
              "      <td>0.356198</td>\n",
              "      <td>0.994971</td>\n",
              "      <td>22.875003</td>\n",
              "      <td>0.469794</td>\n",
              "      <td>1.161075</td>\n",
              "      <td>0.616226</td>\n",
              "      <td>0.931209</td>\n",
              "      <td>1.933272</td>\n",
              "      <td>1.228536</td>\n",
              "    </tr>\n",
              "    <tr>\n",
              "      <th>min</th>\n",
              "      <td>29.000000</td>\n",
              "      <td>1.000000</td>\n",
              "      <td>94.000000</td>\n",
              "      <td>126.000000</td>\n",
              "      <td>0.000000</td>\n",
              "      <td>0.000000</td>\n",
              "      <td>71.000000</td>\n",
              "      <td>0.000000</td>\n",
              "      <td>0.000000</td>\n",
              "      <td>1.000000</td>\n",
              "      <td>0.000000</td>\n",
              "      <td>3.000000</td>\n",
              "      <td>0.000000</td>\n",
              "    </tr>\n",
              "    <tr>\n",
              "      <th>25%</th>\n",
              "      <td>48.000000</td>\n",
              "      <td>3.000000</td>\n",
              "      <td>120.000000</td>\n",
              "      <td>211.000000</td>\n",
              "      <td>0.000000</td>\n",
              "      <td>0.000000</td>\n",
              "      <td>133.500000</td>\n",
              "      <td>0.000000</td>\n",
              "      <td>0.000000</td>\n",
              "      <td>1.000000</td>\n",
              "      <td>0.000000</td>\n",
              "      <td>3.000000</td>\n",
              "      <td>0.000000</td>\n",
              "    </tr>\n",
              "    <tr>\n",
              "      <th>50%</th>\n",
              "      <td>56.000000</td>\n",
              "      <td>3.000000</td>\n",
              "      <td>130.000000</td>\n",
              "      <td>241.000000</td>\n",
              "      <td>0.000000</td>\n",
              "      <td>1.000000</td>\n",
              "      <td>153.000000</td>\n",
              "      <td>0.000000</td>\n",
              "      <td>0.800000</td>\n",
              "      <td>2.000000</td>\n",
              "      <td>0.000000</td>\n",
              "      <td>3.000000</td>\n",
              "      <td>0.000000</td>\n",
              "    </tr>\n",
              "    <tr>\n",
              "      <th>75%</th>\n",
              "      <td>61.000000</td>\n",
              "      <td>4.000000</td>\n",
              "      <td>140.000000</td>\n",
              "      <td>275.000000</td>\n",
              "      <td>0.000000</td>\n",
              "      <td>2.000000</td>\n",
              "      <td>166.000000</td>\n",
              "      <td>1.000000</td>\n",
              "      <td>1.600000</td>\n",
              "      <td>2.000000</td>\n",
              "      <td>1.000000</td>\n",
              "      <td>7.000000</td>\n",
              "      <td>2.000000</td>\n",
              "    </tr>\n",
              "    <tr>\n",
              "      <th>max</th>\n",
              "      <td>77.000000</td>\n",
              "      <td>4.000000</td>\n",
              "      <td>200.000000</td>\n",
              "      <td>564.000000</td>\n",
              "      <td>1.000000</td>\n",
              "      <td>2.000000</td>\n",
              "      <td>202.000000</td>\n",
              "      <td>1.000000</td>\n",
              "      <td>6.200000</td>\n",
              "      <td>3.000000</td>\n",
              "      <td>3.000000</td>\n",
              "      <td>7.000000</td>\n",
              "      <td>4.000000</td>\n",
              "    </tr>\n",
              "  </tbody>\n",
              "</table>\n",
              "</div>\n",
              "      <button class=\"colab-df-convert\" onclick=\"convertToInteractive('df-04b49cde-1b8d-4482-8a6a-eb28ba7c194f')\"\n",
              "              title=\"Convert this dataframe to an interactive table.\"\n",
              "              style=\"display:none;\">\n",
              "        \n",
              "  <svg xmlns=\"http://www.w3.org/2000/svg\" height=\"24px\"viewBox=\"0 0 24 24\"\n",
              "       width=\"24px\">\n",
              "    <path d=\"M0 0h24v24H0V0z\" fill=\"none\"/>\n",
              "    <path d=\"M18.56 5.44l.94 2.06.94-2.06 2.06-.94-2.06-.94-.94-2.06-.94 2.06-2.06.94zm-11 1L8.5 8.5l.94-2.06 2.06-.94-2.06-.94L8.5 2.5l-.94 2.06-2.06.94zm10 10l.94 2.06.94-2.06 2.06-.94-2.06-.94-.94-2.06-.94 2.06-2.06.94z\"/><path d=\"M17.41 7.96l-1.37-1.37c-.4-.4-.92-.59-1.43-.59-.52 0-1.04.2-1.43.59L10.3 9.45l-7.72 7.72c-.78.78-.78 2.05 0 2.83L4 21.41c.39.39.9.59 1.41.59.51 0 1.02-.2 1.41-.59l7.78-7.78 2.81-2.81c.8-.78.8-2.07 0-2.86zM5.41 20L4 18.59l7.72-7.72 1.47 1.35L5.41 20z\"/>\n",
              "  </svg>\n",
              "      </button>\n",
              "      \n",
              "  <style>\n",
              "    .colab-df-container {\n",
              "      display:flex;\n",
              "      flex-wrap:wrap;\n",
              "      gap: 12px;\n",
              "    }\n",
              "\n",
              "    .colab-df-convert {\n",
              "      background-color: #E8F0FE;\n",
              "      border: none;\n",
              "      border-radius: 50%;\n",
              "      cursor: pointer;\n",
              "      display: none;\n",
              "      fill: #1967D2;\n",
              "      height: 32px;\n",
              "      padding: 0 0 0 0;\n",
              "      width: 32px;\n",
              "    }\n",
              "\n",
              "    .colab-df-convert:hover {\n",
              "      background-color: #E2EBFA;\n",
              "      box-shadow: 0px 1px 2px rgba(60, 64, 67, 0.3), 0px 1px 3px 1px rgba(60, 64, 67, 0.15);\n",
              "      fill: #174EA6;\n",
              "    }\n",
              "\n",
              "    [theme=dark] .colab-df-convert {\n",
              "      background-color: #3B4455;\n",
              "      fill: #D2E3FC;\n",
              "    }\n",
              "\n",
              "    [theme=dark] .colab-df-convert:hover {\n",
              "      background-color: #434B5C;\n",
              "      box-shadow: 0px 1px 3px 1px rgba(0, 0, 0, 0.15);\n",
              "      filter: drop-shadow(0px 1px 2px rgba(0, 0, 0, 0.3));\n",
              "      fill: #FFFFFF;\n",
              "    }\n",
              "  </style>\n",
              "\n",
              "      <script>\n",
              "        const buttonEl =\n",
              "          document.querySelector('#df-04b49cde-1b8d-4482-8a6a-eb28ba7c194f button.colab-df-convert');\n",
              "        buttonEl.style.display =\n",
              "          google.colab.kernel.accessAllowed ? 'block' : 'none';\n",
              "\n",
              "        async function convertToInteractive(key) {\n",
              "          const element = document.querySelector('#df-04b49cde-1b8d-4482-8a6a-eb28ba7c194f');\n",
              "          const dataTable =\n",
              "            await google.colab.kernel.invokeFunction('convertToInteractive',\n",
              "                                                     [key], {});\n",
              "          if (!dataTable) return;\n",
              "\n",
              "          const docLinkHtml = 'Like what you see? Visit the ' +\n",
              "            '<a target=\"_blank\" href=https://colab.research.google.com/notebooks/data_table.ipynb>data table notebook</a>'\n",
              "            + ' to learn more about interactive tables.';\n",
              "          element.innerHTML = '';\n",
              "          dataTable['output_type'] = 'display_data';\n",
              "          await google.colab.output.renderOutput(dataTable, element);\n",
              "          const docLink = document.createElement('div');\n",
              "          docLink.innerHTML = docLinkHtml;\n",
              "          element.appendChild(docLink);\n",
              "        }\n",
              "      </script>\n",
              "    </div>\n",
              "  </div>\n",
              "  "
            ],
            "text/plain": [
              "              age          cp    trestbps  ...          ca        thal      target\n",
              "count  303.000000  303.000000  303.000000  ...  303.000000  303.000000  303.000000\n",
              "mean    54.438944    3.158416  131.689769  ...    0.672241    4.734219    0.937294\n",
              "std      9.038662    0.960126   17.599748  ...    0.931209    1.933272    1.228536\n",
              "min     29.000000    1.000000   94.000000  ...    0.000000    3.000000    0.000000\n",
              "25%     48.000000    3.000000  120.000000  ...    0.000000    3.000000    0.000000\n",
              "50%     56.000000    3.000000  130.000000  ...    0.000000    3.000000    0.000000\n",
              "75%     61.000000    4.000000  140.000000  ...    1.000000    7.000000    2.000000\n",
              "max     77.000000    4.000000  200.000000  ...    3.000000    7.000000    4.000000\n",
              "\n",
              "[8 rows x 13 columns]"
            ]
          },
          "metadata": {},
          "execution_count": 52
        }
      ]
    },
    {
      "cell_type": "code",
      "source": [
        "# distribution of target vs age \n",
        "sns.set_context('paper') \n",
        "sns.catplot(kind = 'count', data = df, x = 'age', hue = 'target', order = df['age'].sort_values().unique())\n",
        "plt.title('Variation of Age for each target class')\n",
        "plt.show()"
      ],
      "metadata": {
        "colab": {
          "base_uri": "https://localhost:8080/",
          "height": 384
        },
        "id": "YCd57eMYzsRY",
        "outputId": "7d27cbb4-a847-4112-fc48-72d0d9e0544e"
      },
      "execution_count": null,
      "outputs": [
        {
          "output_type": "display_data",
          "data": {
            "image/png": "[encoded data removed]",
            "text/plain": [
              "<Figure size 397.305x360 with 1 Axes>"
            ]
          },
          "metadata": {
            "needs_background": "light"
          }
        }
      ]
    },
    {
      "cell_type": "code",
      "source": [
        "# barplot of age vs sex with hue = target\n",
        "sns.catplot(kind = 'bar', data = df, y = 'age', x = 'sex', hue = 'target')\n",
        "plt.title('Distribution of age vs sex with the target class')\n",
        "plt.show()"
      ],
      "metadata": {
        "colab": {
          "base_uri": "https://localhost:8080/",
          "height": 405
        },
        "id": "tvYHnAkv0UJ6",
        "outputId": "ec1d5303-b5f6-4f1f-d875-68075016b847"
      },
      "execution_count": null,
      "outputs": [
        {
          "output_type": "display_data",
          "data": {
            "image/png": "[encoded data removed]",
            "text/plain": [
              "<Figure size 397.305x360 with 1 Axes>"
            ]
          },
          "metadata": {
            "needs_background": "light"
          }
        }
      ]
    },
    {
      "cell_type": "code",
      "source": [
        "# get number of people with symptom X_k\n",
        "names_descr = dict()\n",
        "\n",
        "categorical_columns = [ 'sex', 'cp', 'trestbps', 'chol',\n",
        "              'fbs', 'restecg', 'thalach', 'exang', \n",
        "              'oldpeak', 'slope', 'ca', 'thal', 'target']\n",
        "for c in categorical_columns:\n",
        "    print  (df.groupby([c])[\"age\"].count())"
      ],
      "metadata": {
        "colab": {
          "base_uri": "https://localhost:8080/"
        },
        "id": "9HXxkAr5eMpw",
        "outputId": "262d1c0d-c43f-48d5-e8f4-74ef1bc60221"
      },
      "execution_count": null,
      "outputs": [
        {
          "output_type": "stream",
          "name": "stdout",
          "text": [
            "sex\n",
            "female     97\n",
            "male      206\n",
            "Name: age, dtype: int64\n",
            "cp\n",
            "1     23\n",
            "2     50\n",
            "3     86\n",
            "4    144\n",
            "Name: age, dtype: int64\n",
            "trestbps\n",
            "94      2\n",
            "100     4\n",
            "101     1\n",
            "102     2\n",
            "104     1\n",
            "105     3\n",
            "106     1\n",
            "108     6\n",
            "110    19\n",
            "112     9\n",
            "114     1\n",
            "115     3\n",
            "117     1\n",
            "118     7\n",
            "120    37\n",
            "122     4\n",
            "123     1\n",
            "124     6\n",
            "125    11\n",
            "126     3\n",
            "128    12\n",
            "129     1\n",
            "130    36\n",
            "132     8\n",
            "134     5\n",
            "135     6\n",
            "136     3\n",
            "138    12\n",
            "140    32\n",
            "142     3\n",
            "144     2\n",
            "145     5\n",
            "146     2\n",
            "148     2\n",
            "150    17\n",
            "152     5\n",
            "154     1\n",
            "155     1\n",
            "156     1\n",
            "158     1\n",
            "160    11\n",
            "164     1\n",
            "165     1\n",
            "170     4\n",
            "172     1\n",
            "174     1\n",
            "178     2\n",
            "180     3\n",
            "192     1\n",
            "200     1\n",
            "Name: age, dtype: int64\n",
            "chol\n",
            "126    1\n",
            "131    1\n",
            "141    1\n",
            "149    2\n",
            "157    1\n",
            "      ..\n",
            "394    1\n",
            "407    1\n",
            "409    1\n",
            "417    1\n",
            "564    1\n",
            "Name: age, Length: 152, dtype: int64\n",
            "fbs\n",
            "0    258\n",
            "1     45\n",
            "Name: age, dtype: int64\n",
            "restecg\n",
            "0    151\n",
            "1      4\n",
            "2    148\n",
            "Name: age, dtype: int64\n",
            "thalach\n",
            "71     1\n",
            "88     1\n",
            "90     1\n",
            "95     1\n",
            "96     2\n",
            "      ..\n",
            "190    1\n",
            "192    1\n",
            "194    1\n",
            "195    1\n",
            "202    1\n",
            "Name: age, Length: 91, dtype: int64\n",
            "exang\n",
            "0    204\n",
            "1     99\n",
            "Name: age, dtype: int64\n",
            "oldpeak\n",
            "0.0    99\n",
            "0.1     7\n",
            "0.2    12\n",
            "0.3     3\n",
            "0.4     9\n",
            "0.5     5\n",
            "0.6    14\n",
            "0.7     1\n",
            "0.8    13\n",
            "0.9     3\n",
            "1.0    14\n",
            "1.1     2\n",
            "1.2    17\n",
            "1.3     1\n",
            "1.4    13\n",
            "1.5     5\n",
            "1.6    11\n",
            "1.8    10\n",
            "1.9     5\n",
            "2.0     9\n",
            "2.1     1\n",
            "2.2     4\n",
            "2.3     2\n",
            "2.4     3\n",
            "2.5     2\n",
            "2.6     6\n",
            "2.8     6\n",
            "2.9     1\n",
            "3.0     5\n",
            "3.1     1\n",
            "3.2     2\n",
            "3.4     3\n",
            "3.5     1\n",
            "3.6     4\n",
            "3.8     1\n",
            "4.0     3\n",
            "4.2     2\n",
            "4.4     1\n",
            "5.6     1\n",
            "6.2     1\n",
            "Name: age, dtype: int64\n",
            "slope\n",
            "1    142\n",
            "2    140\n",
            "3     21\n",
            "Name: age, dtype: int64\n",
            "ca\n",
            "0.000000    176\n",
            "0.672241      4\n",
            "1.000000     65\n",
            "2.000000     38\n",
            "3.000000     20\n",
            "Name: age, dtype: int64\n",
            "thal\n",
            "3.000000    166\n",
            "4.734219      2\n",
            "6.000000     18\n",
            "7.000000    117\n",
            "Name: age, dtype: int64\n",
            "target\n",
            "0    164\n",
            "1     55\n",
            "2     36\n",
            "3     35\n",
            "4     13\n",
            "Name: age, dtype: int64\n"
          ]
        }
      ]
    },
    {
      "cell_type": "code",
      "source": [
        "df['sex'] = df.sex.map({'female': 0, 'male': 1})"
      ],
      "metadata": {
        "id": "UkQOWfhk04Ov"
      },
      "execution_count": null,
      "outputs": []
    },
    {
      "cell_type": "code",
      "source": [
        "#split attributes\n",
        "X = df.iloc[:, :-1].values  \n",
        "y = df.iloc[:, -1].values\n",
        "\n",
        "#split data\n",
        "X_train, X_test, y_train, y_test = train_test_split(X, y, test_size = 0.2, random_state = 0) \n",
        "\n",
        "#feature scaling\n",
        "sc = ss()\n",
        "X_train = sc.fit_transform(X_train)  #fit and transform\n",
        "X_test = sc.transform(X_test)\n",
        "\n",
        "print(X_train.shape, X_test.shape, y_train.shape, y_test.shape)\n",
        "print(X_train)\n",
        "print(X_test)\n",
        "\n",
        "# trying smth \n",
        "model = RandomForestClassifier(random_state=0)\n",
        "model.fit(X_train,y_train)\n",
        "pred = model.predict(X_test)\n",
        "acc = accuracy_score(y_test, pred)\n",
        "print(\"Accuracy: %.3f\" %acc)   # accuracy = 0.590\n",
        "\n"
      ],
      "metadata": {
        "id": "5oUq5kqqeoo6"
      },
      "execution_count": null,
      "outputs": []
    }
  ]
}